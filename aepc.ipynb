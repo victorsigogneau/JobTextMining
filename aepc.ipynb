{
 "cells": [
  {
   "cell_type": "code",
   "execution_count": 4,
   "metadata": {},
   "outputs": [
    {
     "name": "stdout",
     "output_type": "stream",
     "text": [
      "Le/la data analyst valorise l’ensemble des données d’une entreprise pour en faire un levier de création de valeur. Il/elle utilise notamment les données recueillies en masse (big data) pour réaliser les nombreux tableaux de bord nécessaires à différents services de l’entreprise (marketing, relations clients, production…). Il/elle est également en charge de construire des modèles statistiques pour éclairer les services opérationnels (segmentations clients ou analyses prédictives).\n"
     ]
    }
   ],
   "source": [
    "import requests\n",
    "from bs4 import BeautifulSoup\n",
    "\n",
    "url = 'https://www.apec.fr/tous-nos-metiers/informatique/data-analyst.html'\n",
    "\n",
    "# Envoyer une requête GET à l'URL\n",
    "response = requests.get(url)\n",
    "\n",
    "# Vérifier si la requête a réussi (statut 200)\n",
    "if response.status_code == 200:\n",
    "    # Utiliser BeautifulSoup pour parser le contenu HTML\n",
    "    soup = BeautifulSoup(response.text, 'html.parser')\n",
    "\n",
    "    # Trouver les éléments avec la classe \"card-head__description\"\n",
    "    descriptions = soup.find_all('div', class_='card-head__description')\n",
    "\n",
    "    # Parcourir les éléments et afficher les descriptions\n",
    "    for description in descriptions:\n",
    "        print(description.text.strip())\n",
    "\n",
    "else:\n",
    "    print(f'Erreur lors de la requête ({response.status_code})')\n"
   ]
  }
 ],
 "metadata": {
  "kernelspec": {
   "display_name": "Python 3",
   "language": "python",
   "name": "python3"
  },
  "language_info": {
   "codemirror_mode": {
    "name": "ipython",
    "version": 3
   },
   "file_extension": ".py",
   "mimetype": "text/x-python",
   "name": "python",
   "nbconvert_exporter": "python",
   "pygments_lexer": "ipython3",
   "version": "3.11.6"
  }
 },
 "nbformat": 4,
 "nbformat_minor": 2
}
