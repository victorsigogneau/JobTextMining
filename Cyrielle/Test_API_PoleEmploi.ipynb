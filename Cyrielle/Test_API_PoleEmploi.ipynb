{
 "cells": [
  {
   "cell_type": "markdown",
   "metadata": {},
   "source": [
    "# Utilisation API Pôle emploi\n",
    "Source : https://github.com/etiennekintzler/api-offres-emploi"
   ]
  },
  {
   "cell_type": "code",
   "execution_count": 15,
   "metadata": {},
   "outputs": [],
   "source": [
    "import requests\n",
    "from requests.adapters import HTTPAdapter\n",
    "from requests.packages.urllib3.util.retry import Retry\n",
    "from requests.exceptions import HTTPError\n",
    "\n",
    "import datetime\n",
    "import time\n",
    "import re"
   ]
  },
  {
   "cell_type": "code",
   "execution_count": 16,
   "metadata": {},
   "outputs": [],
   "source": [
    "client_id=\"PAR_textmining_6361ebc3d9de749cdfb72158572fa975a0ba30e97e4e570957f187132bb2b361\"\n",
    "client_secret=\"d77c395663a600cb89716cd8a6c02ab9b2d6920fbdc520791bcff93578b2f093\""
   ]
  },
  {
   "cell_type": "code",
   "execution_count": 17,
   "metadata": {},
   "outputs": [],
   "source": [
    "def get_token(client_id,client_secret):\n",
    "    data = dict(\n",
    "                grant_type=\"client_credentials\",\n",
    "                client_id=client_id,\n",
    "                client_secret=client_secret,\n",
    "                scope=\"api_offresdemploiv2 o2dsoffre application_{}\".format(client_id),\n",
    "            )\n",
    "\n",
    "    headers = {\"content-type\": \"application/x-www-form-urlencoded\"}\n",
    "    params = dict(realm=\"/partenaire\")\n",
    "    current_time = datetime.datetime.today()\n",
    "    r = requests.post(\n",
    "        url=\"https://entreprise.pole-emploi.fr/connexion/oauth2/access_token\",\n",
    "        headers=headers,\n",
    "        data=data,\n",
    "        params=params,\n",
    "        timeout=60\n",
    "            )\n",
    "    try:\n",
    "        r.raise_for_status()\n",
    "    except HTTPError as error:\n",
    "        if r.status_code == 400:\n",
    "            complete_message = str(error) + \"\\n\" + str(r.json())\n",
    "            raise HTTPError(complete_message)\n",
    "        else:\n",
    "            raise error\n",
    "    else:\n",
    "        token = r.json()\n",
    "        token[\"expires_at\"] = current_time + datetime.timedelta(\n",
    "            seconds=token[\"expires_in\"]\n",
    "        )\n",
    "        \n",
    "        return token"
   ]
  },
  {
   "cell_type": "code",
   "execution_count": 18,
   "metadata": {},
   "outputs": [
    {
     "data": {
      "text/plain": [
       "{'access_token': 'phC_uzPPQt9VZqK0w1irPOYBIFU',\n",
       " 'scope': 'application_PAR_textmining_6361ebc3d9de749cdfb72158572fa975a0ba30e97e4e570957f187132bb2b361 api_offresdemploiv2 o2dsoffre',\n",
       " 'token_type': 'Bearer',\n",
       " 'expires_in': 1499,\n",
       " 'expires_at': datetime.datetime(2023, 12, 14, 21, 14, 31, 496591)}"
      ]
     },
     "execution_count": 18,
     "metadata": {},
     "output_type": "execute_result"
    }
   ],
   "source": [
    "token=get_token(client_id,client_secret)\n",
    "token"
   ]
  },
  {
   "cell_type": "code",
   "execution_count": 19,
   "metadata": {},
   "outputs": [],
   "source": [
    "def get_hearders(token):\n",
    "    headers = {\n",
    "            \"Authorization\": \"Bearer {}\".format(token[\"access_token\"])\n",
    "        }\n",
    "    return headers\n"
   ]
  },
  {
   "cell_type": "code",
   "execution_count": 20,
   "metadata": {},
   "outputs": [],
   "source": [
    "# Valeurs constantes\n",
    "\n",
    "OFFRES_DEMPLOI_V2_BASE = \"https://api.emploi-store.fr/partenaire/offresdemploi/v2\"\n",
    "REFERENTIEL_ENDPOINT = \"{}/referentiel\".format(OFFRES_DEMPLOI_V2_BASE)\n",
    "SEARCH_ENDPOINT = \"{}/offres/search\".format(OFFRES_DEMPLOI_V2_BASE)"
   ]
  },
  {
   "cell_type": "code",
   "execution_count": 21,
   "metadata": {},
   "outputs": [],
   "source": [
    "# 'Réferentiel' available: domaine, appellations (domaines professionnelles ROME), metiers, themes, continents,\n",
    "#         pays, regions, departements , communes , secteursActivites, naturesContrats,  typesContrats, niveauxFormations,\n",
    "#         permis, langues\n",
    "\n",
    "def referentiel(ref):\n",
    "    \n",
    "    r = requests.Session().get(\n",
    "                url=\"{}/{}\".format(REFERENTIEL_ENDPOINT, ref),\n",
    "                params= dict(realm=\"/partenaire\"),\n",
    "                headers=get_hearders()\n",
    "            )\n",
    "\n",
    "    try:\n",
    "        r.raise_for_status()\n",
    "    except Exception as e:\n",
    "        raise e\n",
    "    else:\n",
    "        return r.json()"
   ]
  },
  {
   "cell_type": "code",
   "execution_count": 22,
   "metadata": {},
   "outputs": [
    {
     "name": "stderr",
     "output_type": "stream",
     "text": [
      "<>:26: SyntaxWarning: invalid escape sequence '\\d'\n",
      "<>:26: SyntaxWarning: invalid escape sequence '\\d'\n",
      "C:\\Users\\barai\\AppData\\Local\\Temp\\ipykernel_19016\\1347239471.py:26: SyntaxWarning: invalid escape sequence '\\d'\n",
      "  pattern=\"offres (?P<first_index>\\d+)-(?P<last_index>\\d+)/(?P<max_results>\\d+)\",\n"
     ]
    }
   ],
   "source": [
    "def search(params=None):\n",
    "    print('Requête avec les params {}'.format(params))\n",
    "    r = requests.Session().get(\n",
    "            url=SEARCH_ENDPOINT,\n",
    "            params=params,\n",
    "            headers=get_hearders(token)\n",
    "        )\n",
    "\n",
    "    silent_http_errors=False\n",
    "    try:\n",
    "        r.raise_for_status()\n",
    "    except HTTPError as error:\n",
    "        if r.status_code == 400:\n",
    "            complete_message = str(error) + \"\\n\" + r.json()[\"message\"]\n",
    "            if silent_http_errors:\n",
    "                print(complete_message)\n",
    "            else:\n",
    "                raise HTTPError(complete_message)\n",
    "        else:\n",
    "            if silent_http_errors:\n",
    "                print(str(error))\n",
    "            else:\n",
    "                raise error\n",
    "    else:\n",
    "        found_range = re.search(\n",
    "            pattern=\"offres (?P<first_index>\\d+)-(?P<last_index>\\d+)/(?P<max_results>\\d+)\",\n",
    "            string=r.headers[\"Content-Range\"],\n",
    "        ).groupdict()\n",
    "        out = r.json()\n",
    "        out.update({\"Content-Range\": found_range})\n",
    "        return out"
   ]
  },
  {
   "cell_type": "markdown",
   "metadata": {},
   "source": [
    "# Exemple"
   ]
  },
  {
   "cell_type": "code",
   "execution_count": 23,
   "metadata": {},
   "outputs": [
    {
     "name": "stdout",
     "output_type": "stream",
     "text": [
      "Requête avec les params {'motsCles': 'data science', 'minCreationDate': '2020-03-01T12:30:00Z', 'maxCreationDate': '2023-12-14T20:49:43Z'}\n"
     ]
    }
   ],
   "source": [
    "start_dt = datetime.datetime(2020, 3, 1, 12, 30)\n",
    "end_dt = datetime.datetime.today()\n",
    "params = {\n",
    "\n",
    "    \"motsCles\": \"data science\",\n",
    "    'minCreationDate': start_dt.strftime(\"%Y-%m-%dT%H:%M:%SZ\"),\n",
    "    'maxCreationDate': end_dt.strftime(\"%Y-%m-%dT%H:%M:%SZ\")\n",
    "}\n",
    "\n",
    "ex_search=search(params)\n"
   ]
  },
  {
   "cell_type": "code",
   "execution_count": 26,
   "metadata": {},
   "outputs": [
    {
     "ename": "AttributeError",
     "evalue": "'dict' object has no attribute 'dtype'",
     "output_type": "error",
     "traceback": [
      "\u001b[1;31m---------------------------------------------------------------------------\u001b[0m",
      "\u001b[1;31mAttributeError\u001b[0m                            Traceback (most recent call last)",
      "Cell \u001b[1;32mIn[26], line 1\u001b[0m\n\u001b[1;32m----> 1\u001b[0m \u001b[43mex_search\u001b[49m\u001b[38;5;241;43m.\u001b[39;49m\u001b[43mdtype\u001b[49m()\n",
      "\u001b[1;31mAttributeError\u001b[0m: 'dict' object has no attribute 'dtype'"
     ]
    }
   ],
   "source": [
    "ex_search"
   ]
  },
  {
   "cell_type": "code",
   "execution_count": 25,
   "metadata": {},
   "outputs": [],
   "source": [
    "import sqlite3"
   ]
  },
  {
   "cell_type": "code",
   "execution_count": 7,
   "metadata": {},
   "outputs": [],
   "source": [
    "conn = sqlite3.connect('job_mining.db')"
   ]
  },
  {
   "cell_type": "code",
   "execution_count": 8,
   "metadata": {},
   "outputs": [
    {
     "ename": "OperationalError",
     "evalue": "table LieuTravail_Dimension already exists",
     "output_type": "error",
     "traceback": [
      "\u001b[1;31m---------------------------------------------------------------------------\u001b[0m",
      "\u001b[1;31mOperationalError\u001b[0m                          Traceback (most recent call last)",
      "Cell \u001b[1;32mIn[8], line 2\u001b[0m\n\u001b[0;32m      1\u001b[0m cursor \u001b[38;5;241m=\u001b[39m conn\u001b[38;5;241m.\u001b[39mcursor()\n\u001b[1;32m----> 2\u001b[0m \u001b[43mcursor\u001b[49m\u001b[38;5;241;43m.\u001b[39;49m\u001b[43mexecute\u001b[49m\u001b[43m(\u001b[49m\u001b[38;5;124;43m'''\u001b[39;49m\n\u001b[0;32m      3\u001b[0m \u001b[38;5;124;43mCREATE TABLE LieuTravail_Dimension (\u001b[39;49m\n\u001b[0;32m      4\u001b[0m \u001b[38;5;124;43m    id TEXT PRIMARY KEY,\u001b[39;49m\n\u001b[0;32m      5\u001b[0m \u001b[38;5;124;43m    libelle TEXT,\u001b[39;49m\n\u001b[0;32m      6\u001b[0m \u001b[38;5;124;43m    latitude REAL,\u001b[39;49m\n\u001b[0;32m      7\u001b[0m \u001b[38;5;124;43m    longitude REAL,\u001b[39;49m\n\u001b[0;32m      8\u001b[0m \u001b[38;5;124;43m    codePostal TEXT,\u001b[39;49m\n\u001b[0;32m      9\u001b[0m \u001b[38;5;124;43m    commune TEXT\u001b[39;49m\n\u001b[0;32m     10\u001b[0m \u001b[38;5;124;43m)\u001b[39;49m\n\u001b[0;32m     11\u001b[0m \u001b[38;5;124;43m'''\u001b[39;49m\u001b[43m)\u001b[49m\n\u001b[0;32m     13\u001b[0m \u001b[38;5;66;03m# Commit et fermeture de la connexion\u001b[39;00m\n\u001b[0;32m     14\u001b[0m \u001b[38;5;66;03m# conn.commit()\u001b[39;00m\n\u001b[0;32m     15\u001b[0m \u001b[38;5;66;03m# conn.close()\u001b[39;00m\n",
      "\u001b[1;31mOperationalError\u001b[0m: table LieuTravail_Dimension already exists"
     ]
    }
   ],
   "source": [
    "cursor = conn.cursor()\n",
    "cursor.execute('''\n",
    "CREATE TABLE LieuTravail_Dimension (\n",
    "    id TEXT PRIMARY KEY,\n",
    "    libelle TEXT,\n",
    "    latitude REAL,\n",
    "    longitude REAL,\n",
    "    codePostal TEXT,\n",
    "    commune TEXT\n",
    ")\n",
    "''')\n",
    "\n"
   ]
  },
  {
   "cell_type": "code",
   "execution_count": 9,
   "metadata": {},
   "outputs": [
    {
     "data": {
      "text/plain": [
       "<sqlite3.Cursor at 0x2b2f44138c0>"
      ]
     },
     "execution_count": 9,
     "metadata": {},
     "output_type": "execute_result"
    }
   ],
   "source": [
    "\n",
    "cursor.execute('''\n",
    "CREATE TABLE Entreprise_Dimension (\n",
    "    id TEXT PRIMARY KEY,\n",
    "    nom TEXT,\n",
    "    adaptee INTEGER\n",
    ")\n",
    "''')\n"
   ]
  },
  {
   "cell_type": "code",
   "execution_count": 10,
   "metadata": {},
   "outputs": [
    {
     "data": {
      "text/plain": [
       "<sqlite3.Cursor at 0x2b2f44138c0>"
      ]
     },
     "execution_count": 10,
     "metadata": {},
     "output_type": "execute_result"
    }
   ],
   "source": [
    "cursor.execute('''\n",
    "CREATE TABLE Contrat_Dimension (\n",
    "    id TEXT PRIMARY KEY,\n",
    "    typeContrat TEXT,\n",
    "    typeContratLibelle TEXT,\n",
    "    natureContrat TEXT,\n",
    "    dureeTravailLibelle TEXT,\n",
    "    dureeTravailLibelleConverti TEXT,\n",
    "    alternance INTEGER\n",
    ")\n",
    "''')"
   ]
  },
  {
   "cell_type": "code",
   "execution_count": 11,
   "metadata": {},
   "outputs": [
    {
     "data": {
      "text/plain": [
       "<sqlite3.Cursor at 0x2b2f44138c0>"
      ]
     },
     "execution_count": 11,
     "metadata": {},
     "output_type": "execute_result"
    }
   ],
   "source": [
    "cursor.execute('''\n",
    "    CREATE TABLE OrigineOffre_Dimension (\n",
    "        id TEXT PRIMARY KEY,\n",
    "        origine TEXT,\n",
    "        urlOrigine TEXT\n",
    "    )\n",
    "''')"
   ]
  },
  {
   "cell_type": "code",
   "execution_count": 12,
   "metadata": {},
   "outputs": [
    {
     "data": {
      "text/plain": [
       "<sqlite3.Cursor at 0x2b2f44138c0>"
      ]
     },
     "execution_count": 12,
     "metadata": {},
     "output_type": "execute_result"
    }
   ],
   "source": [
    "# Création de la table de faits (OffresEmploi_Faits)\n",
    "cursor.execute('''\n",
    "    CREATE TABLE OffresEmploi_Faits (\n",
    "        id TEXT PRIMARY KEY,\n",
    "        dateCreation TEXT,\n",
    "        dateActualisation TEXT,\n",
    "        nombrePostes INTEGER,\n",
    "        salaireLibelle TEXT,\n",
    "        lieuTravailId TEXT REFERENCES LieuTravail_Dimension(id),\n",
    "        entrepriseId TEXT REFERENCES Entreprise_Dimension(id),\n",
    "        contratId TEXT REFERENCES Contrat_Dimension(id),\n",
    "        qualificationId TEXT REFERENCES Qualification_Dimension(id),\n",
    "        origineOffreId TEXT REFERENCES OrigineOffre_Dimension(id)\n",
    "    )\n",
    "''')"
   ]
  },
  {
   "cell_type": "code",
   "execution_count": 13,
   "metadata": {},
   "outputs": [],
   "source": [
    "# Commit et fermeture de la connexion\n",
    "conn.commit()\n",
    "conn.close()"
   ]
  },
  {
   "cell_type": "code",
   "execution_count": 14,
   "metadata": {},
   "outputs": [
    {
     "name": "stdout",
     "output_type": "stream",
     "text": [
      "Empty DataFrame\n",
      "Columns: [id, dateCreation, dateActualisation, nombrePostes, salaireLibelle, lieuTravailId, entrepriseId, contratId, qualificationId, origineOffreId]\n",
      "Index: []\n"
     ]
    }
   ],
   "source": [
    "import sqlite3\n",
    "import pandas as pd\n",
    "\n",
    "# Connexion à la base de données SQLite\n",
    "conn = sqlite3.connect('job_mining.db')\n",
    "\n",
    "# Exécuter une requête SQL (remplacez la requête par celle que vous souhaitez)\n",
    "query = \"SELECT * FROM OffresEmploi_Faits\"\n",
    "df = pd.read_sql_query(query, conn)\n",
    "\n",
    "# Afficher le DataFrame\n",
    "print(df)\n",
    "\n",
    "# Fermer la connexion\n",
    "conn.close()"
   ]
  }
 ],
 "metadata": {
  "kernelspec": {
   "display_name": "Python 3",
   "language": "python",
   "name": "python3"
  },
  "language_info": {
   "codemirror_mode": {
    "name": "ipython",
    "version": 3
   },
   "file_extension": ".py",
   "mimetype": "text/x-python",
   "name": "python",
   "nbconvert_exporter": "python",
   "pygments_lexer": "ipython3",
   "version": "3.12.0"
  }
 },
 "nbformat": 4,
 "nbformat_minor": 2
}
